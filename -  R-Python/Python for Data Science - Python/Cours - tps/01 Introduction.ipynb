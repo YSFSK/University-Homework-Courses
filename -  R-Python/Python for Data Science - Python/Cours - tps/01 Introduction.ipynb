{
 "cells": [
  {
   "cell_type": "markdown",
   "metadata": {},
   "source": [
    "# Les bases de la programmation en Python (Crash Course)\n",
    "\n",
    "## Les variables (Typage des variables en Python)\n",
    "\n",
    "Python est un langage à typage dynamique d'ailleurs comme Lips et Scheme. Par contre, C, C++ et Java sont des langages à typage statique.\n",
    "\n",
    "Exemple de déclarations des variables de type int ou float en C++:\n",
    "\n",
    "\n",
    "int a;\n",
    "\n",
    "float mynumber;\n",
    "\n",
    "int a, b, c;\n",
    "\n",
    "\n",
    "En effet, le type d'une variable en Python est déterminé à l'exécution c'est-à-dire il suffit d'assigner une valeur à une variable (le type d'une variable n'est pas déterminé à l'écriture du programme mais dynamiquement à l'exécution du programme).\n",
    "\n",
    "Faisons alors la manipulation suivante:\n",
    "- On associe une valeur quelconque à une variable\n",
    "- On utilise la fonction type() pour connaître son type\n",
    "\n"
   ]
  },
  {
   "cell_type": "markdown",
   "metadata": {},
   "source": [
    "- int # Entiers, de longueur non bornée\n",
    "\n",
    "- float  # Flottants (réels, en norme IEEE 754 sur 64 bits)\n",
    "\n",
    "- complex # Nombres complexes \n",
    "\n",
    "- bool # Booléens (True / False)\n",
    "\n",
    "- list # Listes\n",
    "\n",
    "- set # Ensembles\n",
    "\n",
    "- tuple # $n$-uplets\n",
    "\n",
    "- str # Chaînes de caractères (string)\n",
    "\n",
    "- function # Fonctions\n",
    "\n",
    "## Les integer ou les nombres entiers"
   ]
  },
  {
   "cell_type": "code",
   "execution_count": null,
   "metadata": {},
   "outputs": [],
   "source": [
    "# On affecte 100 à x\n",
    "x = 100\n",
    "# A ce niveau, on ne peut pas déterminer le type de la variable x"
   ]
  },
  {
   "cell_type": "code",
   "execution_count": null,
   "metadata": {},
   "outputs": [],
   "source": [
    "\"\"\"\n",
    "Alors, on applique la fonction type(), \n",
    "et on réalise que x est une variable de \n",
    "type int (integer)\n",
    "\"\"\"\n",
    "type(x)"
   ]
  },
  {
   "cell_type": "code",
   "execution_count": null,
   "metadata": {},
   "outputs": [],
   "source": [
    "\"\"\"\n",
    "En réalité ce n'est pas vrai, car en Python \n",
    "tout est un objet (In Python, Everything is an object!)\n",
    "La preuve\n",
    "\"\"\"\n",
    "print(type(x))"
   ]
  },
  {
   "cell_type": "code",
   "execution_count": null,
   "metadata": {},
   "outputs": [],
   "source": [
    "# affiche le type (la classe) de la variable ou de l’objet \n",
    "type(x) \n",
    "# affiche l’identifiant (l’adresse en mémoire)\n",
    "id(x)\n",
    "id?"
   ]
  },
  {
   "cell_type": "markdown",
   "metadata": {},
   "source": [
    "On peut dire que x est un objet. Cet objet est une instance de la classe int. Notons, qu'on peut créer autant d'objets que l'on veut avec une classe.\n",
    "\n",
    "En programmation orientée objet, on associe des méthodes à une classe. Ainsi, les méthodes sont des fonctions définies dans une classe.\n",
    "\n",
    "Les attributs de classe permettent de stocker des informations au niveau de la classe.\n",
    "\n",
    "\n",
    "Afin de déterminer l'ensemble des méthodes et des atributs associées à la classe 'int', il suffit d'utiliser la fonction dir() comme suit:"
   ]
  },
  {
   "cell_type": "code",
   "execution_count": null,
   "metadata": {},
   "outputs": [],
   "source": [
    "dir(x) # Essayons quand même de regarder quelques fonctions (méthodes)"
   ]
  },
  {
   "cell_type": "markdown",
   "metadata": {},
   "source": [
    "Pour utiliser une méthode ou voir un attribut, il suffit de mettre un point . après l'objet et d'appuyer sur le bouton tabulation (tab): \n",
    "\n",
    "\n",
    "- x + . + tab ==> on obtient une liste des méthodes \n",
    "\n",
    " - Remarque 1: Les variables ou les objets de type integer sont utilisés dans les boucles for sinon on aura des messages d'erreurs. \n",
    " \n",
    " - Remarque 2: La fonction print() est une fonction permettant d'afficher un message sur le terminal. Cette fonction permet d'illustrer l'exemple classique d'affichage de la phrase \"Hello World\". On remarque que le développement en Python est plus rapide que celui en C, C++ ou Java."
   ]
  },
  {
   "cell_type": "code",
   "execution_count": null,
   "metadata": {},
   "outputs": [],
   "source": [
    "# Hello World en Python\n",
    "print(\"Hello World\")"
   ]
  },
  {
   "cell_type": "markdown",
   "metadata": {},
   "source": [
    "En Java c'est un peu plus compliqué:\n",
    "\n",
    "/* Hello World en Java*/\n",
    "\n",
    "Public class HelloWorld {\n",
    "\n",
    "public static void main(String[] args) {\n",
    "\n",
    "System.out.println(\"Hello, World\");\n",
    "\n",
    "}\n",
    "\n",
    "}\n",
    "\n",
    "## Les float ou les nombres à virgules"
   ]
  },
  {
   "cell_type": "code",
   "execution_count": null,
   "metadata": {},
   "outputs": [],
   "source": [
    "# On affecte 100 à x\n",
    "xx = -100.14\n",
    "# A ce niveau, on ne peut pas déterminer le type de la variable xx\n",
    "\n",
    "# Alors, on applique la fonction type(), \n",
    "# et on réalise que x est une variable de type int (pour integer) \n",
    "type(xx)"
   ]
  },
  {
   "cell_type": "code",
   "execution_count": null,
   "metadata": {},
   "outputs": [],
   "source": [
    "# In Python, Everything is an object!\n",
    "# La preuve\n",
    "\n",
    "print(type(xx))"
   ]
  },
  {
   "cell_type": "code",
   "execution_count": null,
   "metadata": {},
   "outputs": [],
   "source": [
    "# Listons l'ensemble des méthodes de la classe float\n",
    "dir(xx)"
   ]
  },
  {
   "cell_type": "code",
   "execution_count": null,
   "metadata": {},
   "outputs": [],
   "source": [
    "xx.__abs__()"
   ]
  },
  {
   "cell_type": "markdown",
   "metadata": {},
   "source": [
    "Les méthodes conjugate, imag, real permettent respectivement de calculer le conjugué d'un réel, sa partie imaginaire et sa partie réelle."
   ]
  },
  {
   "cell_type": "code",
   "execution_count": null,
   "metadata": {},
   "outputs": [],
   "source": [
    "xx.conjugate()"
   ]
  },
  {
   "cell_type": "code",
   "execution_count": null,
   "metadata": {},
   "outputs": [],
   "source": [
    "xx.real"
   ]
  },
  {
   "cell_type": "code",
   "execution_count": null,
   "metadata": {},
   "outputs": [],
   "source": [
    "xx.imag"
   ]
  },
  {
   "cell_type": "code",
   "execution_count": null,
   "metadata": {},
   "outputs": [],
   "source": [
    "# Si on veut déterminer la représentation hexadécimale d'une variable\n",
    "xx.hex()"
   ]
  },
  {
   "cell_type": "markdown",
   "metadata": {},
   "source": [
    "Question: Comment chercher de l'aide avec Python et dans un notebook Jupyter.\n",
    "\n",
    "\n",
    "Réponse: Il suffit d'écrire la fonction ou la méthode puis de mettre un point d'interrogation ? et d'appuyer sur le bouton entrée."
   ]
  },
  {
   "cell_type": "code",
   "execution_count": null,
   "metadata": {},
   "outputs": [],
   "source": [
    "xx.is_integer?"
   ]
  },
  {
   "cell_type": "markdown",
   "metadata": {},
   "source": [
    "Si on veut tester le type d'une variable/d'un objet on peut utiliser les fonctions/méthodes commençant par is_"
   ]
  },
  {
   "cell_type": "code",
   "execution_count": null,
   "metadata": {},
   "outputs": [],
   "source": [
    "xx = 100.14\n",
    "xx.is_integer() # La fonction retourne la variable booléenne False"
   ]
  },
  {
   "cell_type": "markdown",
   "metadata": {},
   "source": [
    "## Les long ou les nombres entiers longs (uniquement en python2.7)\n",
    "Les entiers de type long ont une précision non-limitée. La précision dépend de la machine d'exécution.\n"
   ]
  },
  {
   "cell_type": "markdown",
   "metadata": {},
   "source": [
    "## Opérations mathématiques sur les variables numériques\n",
    "\n",
    "x / y : \n",
    "x // y : \n",
    "x % y : \n",
    "-x : \n",
    "+x : \n",
    "abs(x) : \n",
    "int(x) : \n",
    "long(x) : \n",
    "float(x) : \n",
    "complex(re,im) : \n",
    "c.conjugate() : \n",
    "divmod(x, y) : \n",
    "pow(x, y) : \n",
    "x ** y : "
   ]
  },
  {
   "cell_type": "code",
   "execution_count": null,
   "metadata": {},
   "outputs": [],
   "source": []
  },
  {
   "cell_type": "markdown",
   "metadata": {},
   "source": [
    "## Les strings ou les chaînes de caractères\n",
    "\n",
    "Une chaîne de caractère est une structure de données immuable (non mutable). On ne peut pas la modifier.\n",
    "\n",
    "En plus des types numériques (int, float et complex), Python peut également manipuler des chaînes de caractères (string: str), qui peuvent être exprimées de plusieurs façons. Ils peuvent être entourés de guillemets simples ('...') ou de guillemets doubles (\"...\") avec le même résultat."
   ]
  },
  {
   "cell_type": "code",
   "execution_count": null,
   "metadata": {},
   "outputs": [],
   "source": [
    "chaine1 = 'data'\n",
    "chaine1"
   ]
  },
  {
   "cell_type": "code",
   "execution_count": null,
   "metadata": {},
   "outputs": [],
   "source": [
    "type(chaine1)"
   ]
  },
  {
   "cell_type": "code",
   "execution_count": null,
   "metadata": {},
   "outputs": [],
   "source": [
    "print(type(chaine1))"
   ]
  },
  {
   "cell_type": "code",
   "execution_count": null,
   "metadata": {},
   "outputs": [],
   "source": [
    "chaine2 = \"data\"\n",
    "chaine2"
   ]
  },
  {
   "cell_type": "code",
   "execution_count": null,
   "metadata": {},
   "outputs": [],
   "source": [
    "# Affichage avec une boucle sur les indices des éléments de\n",
    "# la chaîne\n",
    "for i in range(len(chaine2)):\n",
    "    print(chaine2[i])\n",
    "    \n",
    "# Affichage avec une boucle sur les éléments de la chaîne\n",
    "for x in chaine2:\n",
    "    print(x)\n",
    "\n",
    "# Pour afficher sur une seule ligne\n",
    "for x in chaine2:\n",
    "    print(x, end=\"\")"
   ]
  },
  {
   "cell_type": "code",
   "execution_count": null,
   "metadata": {},
   "outputs": [],
   "source": [
    "# Par contre, attention, dans ce cas on obtient une erreur (expression avec les apostrophes)\n",
    "chaine3 = 'l'ecole'"
   ]
  },
  {
   "cell_type": "code",
   "execution_count": null,
   "metadata": {},
   "outputs": [],
   "source": [
    "# Comment écrire un commentaire intelligent\n",
    "\n",
    "commentaire = \"\"\"\n",
    "                Cette fonction permet de calculer \n",
    "                la somme de plusieurs termes\n",
    "                \"\"\""
   ]
  },
  {
   "cell_type": "code",
   "execution_count": null,
   "metadata": {},
   "outputs": [],
   "source": [
    "commentaire # remarquer bien le \\n indiquant un retour à la ligne"
   ]
  },
  {
   "cell_type": "code",
   "execution_count": null,
   "metadata": {},
   "outputs": [],
   "source": [
    "print(commentaire) # Les retours chariots sont pris en compte (utile pour commenter une fonction)"
   ]
  },
  {
   "cell_type": "markdown",
   "metadata": {},
   "source": [
    "- On utilise souvent \\n pour retourner à la ligne\n",
    "-  \\ peut être utilisé pour échapper des guillemets par exemple:"
   ]
  },
  {
   "cell_type": "code",
   "execution_count": null,
   "metadata": {},
   "outputs": [],
   "source": [
    "\"\\\"Il est intelligent, il\\\"a fait un cursus data science\""
   ]
  },
  {
   "cell_type": "code",
   "execution_count": null,
   "metadata": {},
   "outputs": [],
   "source": [
    "dir(chaine1)"
   ]
  },
  {
   "cell_type": "code",
   "execution_count": null,
   "metadata": {},
   "outputs": [],
   "source": [
    "chaine1.upper()"
   ]
  },
  {
   "cell_type": "code",
   "execution_count": null,
   "metadata": {},
   "outputs": [],
   "source": [
    "liste = chaine2.split()\n",
    "type(liste)\n",
    "print(type(liste))\n",
    "liste[0][1]"
   ]
  },
  {
   "cell_type": "markdown",
   "metadata": {},
   "source": [
    "## Les booléens et les tests\n",
    "Les deux éléments de la classe des booléens sont True et False (avec les majuscules).\n",
    "\n",
    "Les opérations sur les booléens:\n",
    "\n",
    "- x & y , x and y , x.\\__and__(y) pour et \n",
    "- x | y , x or y  , x.\\__or__(y)  pour ou\n",
    "- x ^ y , x\\_\\_xor\\_\\_(y)            pour ou exclusif\n",
    "- not x                          négation de x"
   ]
  },
  {
   "cell_type": "code",
   "execution_count": null,
   "metadata": {},
   "outputs": [],
   "source": []
  },
  {
   "cell_type": "markdown",
   "metadata": {},
   "source": [
    "Question: Pourquoi utilise-t-on des booléens?\n",
    "\n",
    ".\n",
    "\n",
    ".\n",
    "\n",
    ".\n",
    "\n",
    ".\n",
    "\n",
    "\n",
    ".\n",
    "\n",
    ".\n",
    "\n",
    "\n",
    ".\n",
    "\n",
    ".\n",
    "\n",
    "\n",
    "\n",
    "\n",
    "\n",
    "\n",
    "\n",
    "\n",
    "\n",
    "\n",
    "\n",
    "Réponse: La plupart du temps, les booléens sont utilisés dans les tests."
   ]
  },
  {
   "cell_type": "code",
   "execution_count": 28,
   "metadata": {},
   "outputs": [
    {
     "ename": "TypeError",
     "evalue": "'<' not supported between instances of 'str' and 'int'",
     "output_type": "error",
     "traceback": [
      "\u001b[1;31m---------------------------------------------------------------------------\u001b[0m",
      "\u001b[1;31mTypeError\u001b[0m                                 Traceback (most recent call last)",
      "\u001b[1;32m<ipython-input-28-68fa0036d10f>\u001b[0m in \u001b[0;36m<module>\u001b[1;34m()\u001b[0m\n\u001b[0;32m      6\u001b[0m \u001b[1;33m\u001b[0m\u001b[0m\n\u001b[0;32m      7\u001b[0m \u001b[1;31m# pour l'infériorité stricte\u001b[0m\u001b[1;33m\u001b[0m\u001b[1;33m\u001b[0m\u001b[0m\n\u001b[1;32m----> 8\u001b[1;33m \u001b[0mx\u001b[0m \u001b[1;33m<\u001b[0m \u001b[0my\u001b[0m\u001b[1;33m\u001b[0m\u001b[0m\n\u001b[0m\u001b[0;32m      9\u001b[0m \u001b[1;31m# pour la supériorité stricte\u001b[0m\u001b[1;33m\u001b[0m\u001b[1;33m\u001b[0m\u001b[0m\n\u001b[0;32m     10\u001b[0m \u001b[0mx\u001b[0m \u001b[1;33m>\u001b[0m \u001b[0my\u001b[0m\u001b[1;33m\u001b[0m\u001b[0m\n",
      "\u001b[1;31mTypeError\u001b[0m: '<' not supported between instances of 'str' and 'int'"
     ]
    }
   ],
   "source": [
    "# Comment saisir à partir du clavier?\n",
    "\n",
    "# égalité (la double égalité permet de distinguer\n",
    "# syntaxiquement de l’affectation)\n",
    "x == y\n",
    "\n",
    "# pour l'infériorité stricte\n",
    "x < y\n",
    "# pour la supériorité stricte\n",
    "x > y\n",
    "# pour l'infériorité large\n",
    "x <= y\n",
    "# pour la supériorité large\n",
    "x >= y\n",
    "# différent (non égalité)\n",
    "x != y\n",
    "# Pour tester l'appartenance (pour les listes, ensembles, chaînes de caratères, dictionnaires)\n",
    "# Complexité: la complexié du test d'appartenance varie selon la structure. \n",
    "# si y est une liste, il se fait en temps linéaire, \n",
    "# alors qu’il est en temps quasi-constant pour un ensemble\n",
    "x in y\n",
    "# Test pour l'identité (comparaison des identifiants de x et y)\n",
    "x is y "
   ]
  },
  {
   "cell_type": "markdown",
   "metadata": {},
   "source": [
    "## Les listes\n",
    "\n",
    "Une liste est une structure de données dynamique, linéaire et mutable. Elle peut contenir des objets de même type ou de type hétérogène. On peut avoir une liste des listes (listes imbriquées)."
   ]
  },
  {
   "cell_type": "code",
   "execution_count": 33,
   "metadata": {},
   "outputs": [],
   "source": [
    "L = [] # Création d'une liste vide\n",
    "L.append(10)\n",
    "L.append(5)\n",
    "L.append(100)"
   ]
  },
  {
   "cell_type": "code",
   "execution_count": 30,
   "metadata": {},
   "outputs": [
    {
     "name": "stdout",
     "output_type": "stream",
     "text": [
      "<class 'list'>\n"
     ]
    }
   ],
   "source": [
    "print(type(L))"
   ]
  },
  {
   "cell_type": "code",
   "execution_count": 34,
   "metadata": {},
   "outputs": [
    {
     "data": {
      "text/plain": [
       "\u001b[1;31mDocstring:\u001b[0m L.sort(key=None, reverse=False) -> None -- stable sort *IN PLACE*\n",
       "\u001b[1;31mType:\u001b[0m      builtin_function_or_method\n"
      ]
     },
     "metadata": {},
     "output_type": "display_data"
    }
   ],
   "source": [
    "# Je vous laisse le temps de découvrir les méthodes (les fonctions)\n",
    "# opérant sur les listes\n",
    "L.sort?"
   ]
  },
  {
   "cell_type": "code",
   "execution_count": 35,
   "metadata": {},
   "outputs": [
    {
     "name": "stdout",
     "output_type": "stream",
     "text": [
      "[10, 5, 100, 1]\n"
     ]
    }
   ],
   "source": [
    "# Ajouter un élément à une liste\n",
    "L.append(1)\n",
    "print(L)"
   ]
  },
  {
   "cell_type": "code",
   "execution_count": 19,
   "metadata": {},
   "outputs": [
    {
     "name": "stdout",
     "output_type": "stream",
     "text": [
      "[1, 1, -1, -1]\n"
     ]
    }
   ],
   "source": [
    "L.append(-1)\n",
    "print(L)"
   ]
  },
  {
   "cell_type": "code",
   "execution_count": 36,
   "metadata": {},
   "outputs": [
    {
     "data": {
      "text/plain": [
       "10"
      ]
     },
     "execution_count": 36,
     "metadata": {},
     "output_type": "execute_result"
    }
   ],
   "source": [
    "L[0]"
   ]
  },
  {
   "cell_type": "code",
   "execution_count": 37,
   "metadata": {},
   "outputs": [
    {
     "data": {
      "text/plain": [
       "4"
      ]
     },
     "execution_count": 37,
     "metadata": {},
     "output_type": "execute_result"
    }
   ],
   "source": [
    "len(L)"
   ]
  },
  {
   "cell_type": "code",
   "execution_count": 41,
   "metadata": {},
   "outputs": [
    {
     "name": "stdout",
     "output_type": "stream",
     "text": [
      "[100, 10, 5, 1]\n"
     ]
    }
   ],
   "source": [
    "L.sort(reverse=True)\n",
    "print(L)"
   ]
  },
  {
   "cell_type": "code",
   "execution_count": 42,
   "metadata": {},
   "outputs": [
    {
     "name": "stdout",
     "output_type": "stream",
     "text": [
      "[[1, 1, 1], [0, 1, 2], [3, 4, 5]]\n"
     ]
    }
   ],
   "source": [
    "L=[[1,1,1],[0,1,2],[3,4,5]]\n",
    "print(L)"
   ]
  },
  {
   "cell_type": "code",
   "execution_count": null,
   "metadata": {},
   "outputs": [],
   "source": [
    "L[2][1]"
   ]
  },
  {
   "cell_type": "markdown",
   "metadata": {},
   "source": [
    "Exercice : Ecrire une fonction Python permettant de multiplier les éléments d'une liste par une réel? "
   ]
  },
  {
   "cell_type": "code",
   "execution_count": 48,
   "metadata": {},
   "outputs": [
    {
     "data": {
      "text/plain": [
       "[0, 2, 4]"
      ]
     },
     "execution_count": 48,
     "metadata": {},
     "output_type": "execute_result"
    }
   ],
   "source": [
    "def produit(L,x):\n",
    "    L2=L[:] #copy de L dans L2\n",
    "    for i in L2:\n",
    "        L2[i]=L2[i]*x\n",
    "    return L2\n",
    "\n",
    "produit([0,1,2],2)"
   ]
  },
  {
   "cell_type": "code",
   "execution_count": 57,
   "metadata": {},
   "outputs": [
    {
     "data": {
      "text/plain": [
       "[0, 2, 4]"
      ]
     },
     "execution_count": 57,
     "metadata": {},
     "output_type": "execute_result"
    }
   ],
   "source": [
    "def produit(L,x):\n",
    "    L2=[None]*len(L)\n",
    "    for i in range(len(L)):\n",
    "        L2[i]=L[i]*x\n",
    "    return L2\n",
    "\n",
    "def produit(L,x):\n",
    "    return[x*y for y in L]\n",
    "\n",
    "produit([0,1,2],2)"
   ]
  },
  {
   "cell_type": "code",
   "execution_count": 1,
   "metadata": {},
   "outputs": [],
   "source": [
    "def produit(L1,L2):\n",
    "    L2=[None]*len(L)\n",
    "    for i in range(len(L)):\n",
    "        L2[i]=L[i]*x\n",
    "    return L2\n"
   ]
  },
  {
   "cell_type": "markdown",
   "metadata": {},
   "source": [
    "### Objets et méthodes\n",
    "\n",
    "\n",
    "\n",
    "\n",
    "\n",
    "\n",
    "#### Les piles\n",
    "\n",
    "#### Les files \n",
    "\n",
    "#### Les graphes\n",
    "\n",
    "#### Les ensembles\n",
    "\n",
    "\n",
    "#### Les tuples\n",
    "\n",
    "\n",
    "#### Les dictionnaires \n",
    "\n",
    "\n",
    "#### Les chaînes de caractères \n",
    "\n",
    "#### Les itérateurs \n",
    "\n",
    "#### Les fonctions\n",
    "\n",
    "#### Les structures conditionnelles\n",
    "\n",
    "\n",
    "#### Les structures itératives\n",
    "\n",
    "\n",
    "\n",
    "\n",
    "#### La gestion des exceptions\n",
    "\n",
    "\n",
    "## Utilisation des modules complémentaires\n",
    "\n",
    "### Le module math\n",
    "\n",
    "\n",
    "### Le module numpy\n",
    "\n",
    "\n",
    "### Le module scipy (calcul scientifique)\n",
    "\n",
    "\n",
    "### Le module matplotlib (traçage de courbes)\n",
    "\n",
    "\n",
    "\n",
    "### Le module random \n",
    "\n",
    "\n",
    "### Le module time\n",
    "\n",
    "\n",
    "### Le moducle sqlite3\n",
    "\n",
    "\n",
    "\n",
    "\n",
    "\n",
    "## Lecture et écriture de fichiers\n",
    "\n",
    "\n",
    "\n",
    "\n",
    "\n",
    "\n"
   ]
  },
  {
   "cell_type": "code",
   "execution_count": null,
   "metadata": {},
   "outputs": [],
   "source": []
  },
  {
   "cell_type": "code",
   "execution_count": null,
   "metadata": {},
   "outputs": [],
   "source": []
  },
  {
   "cell_type": "code",
   "execution_count": 58,
   "metadata": {},
   "outputs": [],
   "source": [
    "# Régression linéaire avec Python\n",
    "import numpy as np\n",
    "x = np.array([0,1,2,3,4,5])\n",
    "y = np.array([0,0.8,0.9,0.1,-0.8,-1.])"
   ]
  },
  {
   "cell_type": "code",
   "execution_count": 59,
   "metadata": {},
   "outputs": [],
   "source": [
    "import matplotlib.pyplot as plt"
   ]
  },
  {
   "cell_type": "code",
   "execution_count": 60,
   "metadata": {},
   "outputs": [
    {
     "data": {
      "image/png": "[encoded data removed]",
      "text/plain": [
       "<Figure size 432x288 with 1 Axes>"
      ]
     },
     "metadata": {},
     "output_type": "display_data"
    }
   ],
   "source": [
    "plt.plot(x,y,'rp--')\n",
    "plt.show()"
   ]
  },
  {
   "cell_type": "code",
   "execution_count": 61,
   "metadata": {},
   "outputs": [
    {
     "name": "stdout",
     "output_type": "stream",
     "text": [
      "[-0.30285714  0.75714286]\n"
     ]
    }
   ],
   "source": [
    "import scipy as sp\n",
    "\n",
    "p1 = sp.polyfit(x,y,1)\n",
    "print(p1)"
   ]
  },
  {
   "cell_type": "code",
   "execution_count": 65,
   "metadata": {},
   "outputs": [
    {
     "name": "stderr",
     "output_type": "stream",
     "text": [
      "C:\\Anaconda3\\lib\\site-packages\\ipykernel_launcher.py:2: MatplotlibDeprecationWarning: pyplot.hold is deprecated.\n",
      "    Future behavior will be consistent with the long-time default:\n",
      "    plot commands add elements without first clearing the\n",
      "    Axes and/or Figure.\n",
      "  \n",
      "C:\\Anaconda3\\lib\\site-packages\\matplotlib\\__init__.py:911: MatplotlibDeprecationWarning: axes.hold is deprecated. Please remove it from your matplotlibrc and/or style files.\n",
      "  mplDeprecation)\n",
      "C:\\Anaconda3\\lib\\site-packages\\matplotlib\\rcsetup.py:156: MatplotlibDeprecationWarning: axes.hold is deprecated, will be removed in 3.0\n",
      "  mplDeprecation)\n"
     ]
    },
    {
     "data": {
      "text/plain": [
       "[<matplotlib.lines.Line2D at 0x19f6a612860>]"
      ]
     },
     "execution_count": 65,
     "metadata": {},
     "output_type": "execute_result"
    },
    {
     "data": {
      "image/png": "[encoded data removed]",
      "text/plain": [
       "<Figure size 432x288 with 1 Axes>"
      ]
     },
     "metadata": {},
     "output_type": "display_data"
    }
   ],
   "source": [
    "plt.plot(x,sp.polyval(p1,x))\n",
    "plt.hold(\"True\")\n",
    "plt.plot(x,y,'rp--')"
   ]
  },
  {
   "cell_type": "code",
   "execution_count": 64,
   "metadata": {},
   "outputs": [
    {
     "name": "stdout",
     "output_type": "stream",
     "text": [
      "[-0.16071429  0.50071429  0.22142857]\n"
     ]
    }
   ],
   "source": [
    "p2 = sp.polyfit(x,y,2)\n",
    "p3 = sp.polyfit(x,y,3)\n",
    "\n",
    "print(p2)"
   ]
  },
  {
   "cell_type": "code",
   "execution_count": null,
   "metadata": {},
   "outputs": [],
   "source": [
    "print(p3)"
   ]
  },
  {
   "cell_type": "code",
   "execution_count": 66,
   "metadata": {},
   "outputs": [
    {
     "data": {
      "text/plain": [
       "Text(0,0.5,'Axe des y')"
      ]
     },
     "execution_count": 66,
     "metadata": {},
     "output_type": "execute_result"
    },
    {
     "data": {
      "image/png": "[encoded data removed]",
      "text/plain": [
       "<Figure size 432x288 with 1 Axes>"
      ]
     },
     "metadata": {},
     "output_type": "display_data"
    }
   ],
   "source": [
    "plt.plot(x,sp.polyval(p2,x))\n",
    "plt.plot(x,sp.polyval(p3,x))\n",
    "plt.plot(x,sp.polyval(p1,x))\n",
    "plt.plot(x,y,'rp--')\n",
    "plt.xlabel(\"Axe des x\")\n",
    "plt.ylabel(\"Axe des y\")"
   ]
  },
  {
   "cell_type": "code",
   "execution_count": null,
   "metadata": {},
   "outputs": [],
   "source": []
  }
 ],
 "metadata": {
  "kernelspec": {
   "display_name": "Python 3",
   "language": "python",
   "name": "python3"
  },
  "language_info": {
   "codemirror_mode": {
    "name": "ipython",
    "version": 3
   },
   "file_extension": ".py",
   "mimetype": "text/x-python",
   "name": "python",
   "nbconvert_exporter": "python",
   "pygments_lexer": "ipython3",
   "version": "3.6.5"
  }
 },
 "nbformat": 4,
 "nbformat_minor": 2
}
